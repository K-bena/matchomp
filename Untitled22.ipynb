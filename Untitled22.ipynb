{
  "nbformat": 4,
  "nbformat_minor": 0,
  "metadata": {
    "colab": {
      "provenance": []
    },
    "kernelspec": {
      "name": "python3",
      "display_name": "Python 3"
    },
    "language_info": {
      "name": "python"
    }
  },
  "cells": [
    {
      "cell_type": "code",
      "source": [
        "class TreeNode:\n",
        "    def __init__(self, key):  # Cambiado a __init__\n",
        "        self.left = None\n",
        "        self.right = None\n",
        "        self.val = key\n",
        "\n",
        "def insert(root, key):\n",
        "    if root is None:\n",
        "        return TreeNode(key)\n",
        "    else:\n",
        "        if root.val < key:\n",
        "            root.right = insert(root.right, key)\n",
        "        else:\n",
        "            root.left = insert(root.left, key)\n",
        "    return root\n",
        "\n",
        "def inorder_traversal(root):\n",
        "    return inorder_traversal(root.left) + [root.val] + inorder_traversal(root.right) if root else []\n",
        "\n",
        "# Crear el BST con los elementos del conjunto A\n",
        "A = [21, 14, 2, 11, 7, 20, 13, 30, 18, 5, 6, 29, 12, 27, 4, 28, 10, 15, 22, 1, 19, 3]\n",
        "root = None\n",
        "for key in A:\n",
        "    root = insert(root, key)\n",
        "\n",
        "# Imprimir el recorrido en orden del BST\n",
        "print(\"Inorder traversal of BST:\", inorder_traversal(root))\n"
      ],
      "metadata": {
        "colab": {
          "base_uri": "https://localhost:8080/"
        },
        "id": "kOMwhGtbSGdp",
        "outputId": "1cd04116-9d9f-4a51-afca-dc6df15b9da6"
      },
      "execution_count": 2,
      "outputs": [
        {
          "output_type": "stream",
          "name": "stdout",
          "text": [
            "Inorder traversal of BST: [1, 2, 3, 4, 5, 6, 7, 10, 11, 12, 13, 14, 15, 18, 19, 20, 21, 22, 27, 28, 29, 30]\n"
          ]
        }
      ]
    }
  ]
}