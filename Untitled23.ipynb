{
  "nbformat": 4,
  "nbformat_minor": 0,
  "metadata": {
    "colab": {
      "provenance": []
    },
    "kernelspec": {
      "name": "python3",
      "display_name": "Python 3"
    },
    "language_info": {
      "name": "python"
    }
  },
  "cells": [
    {
      "cell_type": "code",
      "source": [
        "class BTreeNode:\n",
        "    def __init__(self, leaf=False):  # Cambiado a __init__\n",
        "        self.leaf = leaf\n",
        "        self.keys = []\n",
        "        self.children = []\n",
        "\n",
        "class BTree:\n",
        "    def __init__(self, t):  # Cambiado a __init__\n",
        "        self.root = BTreeNode(True)\n",
        "        self.t = t\n",
        "\n",
        "    def insert(self, k):\n",
        "        root = self.root\n",
        "        if len(root.keys) == (2 * self.t - 1):\n",
        "            temp = BTreeNode()\n",
        "            self.root = temp\n",
        "            temp.children.append(root)\n",
        "            self.split_child(temp, 0)\n",
        "            self.insert_non_full(temp, k)\n",
        "        else:\n",
        "            self.insert_non_full(root, k)\n",
        "\n",
        "    def split_child(self, x, i):\n",
        "        t = self.t\n",
        "        y = x.children[i]\n",
        "        z = BTreeNode(y.leaf)\n",
        "        x.children.insert(i + 1, z)\n",
        "        x.keys.insert(i, y.keys[t - 1])\n",
        "        z.keys = y.keys[t:(2 * t - 1)]\n",
        "        y.keys = y.keys[0:(t - 1)]\n",
        "        if not y.leaf:\n",
        "            z.children = y.children[t:(2 * t)]\n",
        "            y.children = y.children[0:t]\n",
        "\n",
        "    def insert_non_full(self, x, k):\n",
        "        if x.leaf:\n",
        "            x.keys.append(k)\n",
        "            x.keys.sort()\n",
        "        else:\n",
        "            i = len(x.keys) - 1\n",
        "            while i >= 0 and k < x.keys[i]:\n",
        "                i -= 1\n",
        "            i += 1\n",
        "            if len(x.children[i].keys) == (2 * self.t - 1):\n",
        "                self.split_child(x, i)\n",
        "                if k > x.keys[i]:\n",
        "                    i += 1\n",
        "            self.insert_non_full(x.children[i], k)\n",
        "\n",
        "    def print_tree(self, x=None, l=0):\n",
        "        if x is None:\n",
        "            x = self.root\n",
        "        print(\"Level\", l, \":\", x.keys)\n",
        "        l += 1\n",
        "        if len(x.children) > 0:\n",
        "            for child in x.children:\n",
        "                self.print_tree(child, l)\n",
        "\n",
        "# Crear el árbol B con orden 5\n",
        "btree = BTree(t=3)  # t = m/2, para m=5, t=3\n",
        "A = [21, 14, 2, 11, 7, 20, 13, 30, 18, 5, 6, 29, 12, 27, 4, 28, 10, 15, 22, 1, 19, 3]\n",
        "for key in A:\n",
        "    btree.insert(key)\n",
        "\n",
        "# Imprimir el árbol B\n",
        "btree.print_tree()\n"
      ],
      "metadata": {
        "id": "321C7hhASx0p",
        "outputId": "985958c2-c6f0-47e3-c60a-8a6d41b34bf5",
        "colab": {
          "base_uri": "https://localhost:8080/"
        }
      },
      "execution_count": 2,
      "outputs": [
        {
          "output_type": "stream",
          "name": "stdout",
          "text": [
            "Level 0 : [14]\n",
            "Level 1 : [5, 11]\n",
            "Level 2 : [1, 2, 3, 4]\n",
            "Level 2 : [6, 7, 10]\n",
            "Level 2 : [12, 13]\n",
            "Level 1 : [20, 28]\n",
            "Level 2 : [15, 18, 19]\n",
            "Level 2 : [21, 22, 27]\n",
            "Level 2 : [29, 30]\n"
          ]
        }
      ]
    }
  ]
}