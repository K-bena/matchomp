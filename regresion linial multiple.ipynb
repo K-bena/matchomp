{
  "nbformat": 4,
  "nbformat_minor": 0,
  "metadata": {
    "colab": {
      "provenance": []
    },
    "kernelspec": {
      "name": "python3",
      "display_name": "Python 3"
    },
    "language_info": {
      "name": "python"
    }
  },
  "cells": [
    {
      "cell_type": "code",
      "execution_count": 1,
      "metadata": {
        "colab": {
          "base_uri": "https://localhost:8080/"
        },
        "id": "Fbrrensm-Nfz",
        "outputId": "233b3251-e7e4-4da7-bc27-fa926dd39484"
      },
      "outputs": [
        {
          "output_type": "stream",
          "name": "stdout",
          "text": [
            "Intersección (Intercepto): 3.835294117647059\n",
            "Coeficiente para x1: -1.2470588235294104\n",
            "Coeficiente para x2: 0.8941176470588237\n",
            "Coeficiente de correlación entre x1 y y: -0.8000000000000002\n",
            "Coeficiente de correlación entre x2 y y: 0.419047619047619\n"
          ]
        }
      ],
      "source": [
        "import numpy as np\n",
        "from scipy.stats import linregress\n",
        "\n",
        "# Datos de la tabla\n",
        "x1 = np.array([1, 1, 2, 3, 1, 2, 3, 3])\n",
        "x2 = np.array([-1, 0, 0, 1, 1, 2, 2, 0])\n",
        "y = np.array([1.6, 3, 1.1, 1.2, 3.2, 3.3, 1.7, 0.1])\n",
        "\n",
        "# Ajuste de la función lineal con dos variables independientes\n",
        "X = np.column_stack((x1, x2))\n",
        "X = np.hstack([np.ones((X.shape[0], 1)), X])  # Añadimos la columna de unos para el intercepto\n",
        "beta, residuals, rank, s = np.linalg.lstsq(X, y, rcond=None)\n",
        "\n",
        "# Coeficientes de la regresión\n",
        "intercept = beta[0]\n",
        "coef_x1 = beta[1]\n",
        "coef_x2 = beta[2]\n",
        "\n",
        "print(f'Intersección (Intercepto): {intercept}')\n",
        "print(f'Coeficiente para x1: {coef_x1}')\n",
        "print(f'Coeficiente para x2: {coef_x2}')\n",
        "\n",
        "# Cálculo del coeficiente de correlación de Pearson\n",
        "correlation_x1, _ = linregress(x1, y)[:2]\n",
        "correlation_x2, _ = linregress(x2, y)[:2]\n",
        "print(f'Coeficiente de correlación entre x1 y y: {correlation_x1}')\n",
        "print(f'Coeficiente de correlación entre x2 y y: {correlation_x2}')\n"
      ]
    }
  ]
}