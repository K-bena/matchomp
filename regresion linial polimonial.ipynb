{
  "nbformat": 4,
  "nbformat_minor": 0,
  "metadata": {
    "colab": {
      "provenance": []
    },
    "kernelspec": {
      "name": "python3",
      "display_name": "Python 3"
    },
    "language_info": {
      "name": "python"
    }
  },
  "cells": [
    {
      "cell_type": "code",
      "execution_count": 1,
      "metadata": {
        "colab": {
          "base_uri": "https://localhost:8080/"
        },
        "id": "r-JHzphsEAes",
        "outputId": "83ae89fe-5790-4abf-88fd-12354507579a"
      },
      "outputs": [
        {
          "output_type": "stream",
          "name": "stdout",
          "text": [
            "Coeficientes del polinomio de segundo grado:\n",
            "a: 0.43571428571428605\n",
            "b: 0.564285714285712\n",
            "c: -0.9428571428571391\n",
            "Coeficiente de correlación (r): 0.9998183947032744\n"
          ]
        }
      ],
      "source": [
        "import numpy as np\n",
        "\n",
        "# Datos de la tabla\n",
        "valores_x = np.array([0, 1, 2, 3, 4, 5, 6])\n",
        "valores_y = np.array([-0.9, 0, 2, 4.5, 8.3, 13, 18])\n",
        "\n",
        "# Ajuste de un polinomio de segundo grado (ax^2 + bx + c)\n",
        "# np.polyfit devuelve los coeficientes a, b y c del polinomio de segundo grado\n",
        "coeficientes_polinomio = np.polyfit(valores_x, valores_y, 2)\n",
        "\n",
        "# Extraemos los coeficientes a, b y c para imprimirlos\n",
        "coef_a = coeficientes_polinomio[0]\n",
        "coef_b = coeficientes_polinomio[1]\n",
        "coef_c = coeficientes_polinomio[2]\n",
        "\n",
        "print(\"Coeficientes del polinomio de segundo grado:\")\n",
        "print(f\"a: {coef_a}\")\n",
        "print(f\"b: {coef_b}\")\n",
        "print(f\"c: {coef_c}\")\n",
        "\n",
        "# Crear el polinomio a partir de los coeficientes\n",
        "# Esto nos permite usar el polinomio para hacer predicciones\n",
        "polinomio = np.poly1d(coeficientes_polinomio)\n",
        "\n",
        "# Calcular los valores ajustados (predichos) de y usando el polinomio\n",
        "valores_y_ajustados = polinomio(valores_x)\n",
        "\n",
        "# Calcular el coeficiente de correlación de Pearson entre los valores reales y los ajustados\n",
        "matriz_correlacion = np.corrcoef(valores_y, valores_y_ajustados)\n",
        "coeficiente_correlacion = matriz_correlacion[0, 1]\n",
        "\n",
        "print(f\"Coeficiente de correlación (r): {coeficiente_correlacion}\")\n"
      ]
    }
  ]
}