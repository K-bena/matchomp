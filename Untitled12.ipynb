{
  "nbformat": 4,
  "nbformat_minor": 0,
  "metadata": {
    "colab": {
      "provenance": []
    },
    "kernelspec": {
      "name": "python3",
      "display_name": "Python 3"
    },
    "language_info": {
      "name": "python"
    }
  },
  "cells": [
    {
      "cell_type": "markdown",
      "source": [],
      "metadata": {
        "id": "68DL4v-ceFRF"
      }
    },
    {
      "cell_type": "markdown",
      "source": [],
      "metadata": {
        "id": "C0e-zp-PeHPu"
      }
    },
    {
      "cell_type": "markdown",
      "source": [
        "#teoria de conjuntos\n"
      ],
      "metadata": {
        "id": "aIECGoNveHg1"
      }
    },
    {
      "cell_type": "markdown",
      "source": [],
      "metadata": {
        "id": "kumfg0L3esjc"
      }
    },
    {
      "cell_type": "code",
      "source": [],
      "metadata": {
        "id": "0DNHu8FsZi8g"
      },
      "execution_count": null,
      "outputs": []
    }
  ]
}